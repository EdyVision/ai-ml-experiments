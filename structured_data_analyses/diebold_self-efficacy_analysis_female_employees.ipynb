{
 "cells": [
  {
   "cell_type": "markdown",
   "metadata": {},
   "source": [
    "# Diebold Dataset Containing Fictitious Survey Data\n",
    "\n",
    "The dataset by Diebold (n.d) comprised of a mix of ages, races, varying levels of self-advocacy training and self-efficacy along with the raises requested by individuals and whether they received a raise. In this analysis, the impact of self-efficacy on raise percentage requested and raise received among Hispanic and non-Hispanic female employees is determined.\n",
    "\n",
    "Dataset Reference:\n",
    "Diebold, C. (n.d.). Diebold Dataset and Codebook. Charles Diebold."
   ]
  },
  {
   "cell_type": "code",
   "execution_count": 1,
   "metadata": {},
   "outputs": [],
   "source": [
    "import pandas as pd\n",
    "import numpy as np\n",
    "import seaborn as sns\n",
    "import matplotlib.pyplot as plt\n",
    "import statsmodels.api as sm\n",
    "from scipy.stats import pearsonr"
   ]
  },
  {
   "cell_type": "code",
   "execution_count": 100,
   "metadata": {},
   "outputs": [
    {
     "data": {
      "text/html": [
       "<div>\n",
       "<style scoped>\n",
       "    .dataframe tbody tr th:only-of-type {\n",
       "        vertical-align: middle;\n",
       "    }\n",
       "\n",
       "    .dataframe tbody tr th {\n",
       "        vertical-align: top;\n",
       "    }\n",
       "\n",
       "    .dataframe thead th {\n",
       "        text-align: right;\n",
       "    }\n",
       "</style>\n",
       "<table border=\"1\" class=\"dataframe\">\n",
       "  <thead>\n",
       "    <tr style=\"text-align: right;\">\n",
       "      <th></th>\n",
       "      <th>ID</th>\n",
       "      <th>Sex</th>\n",
       "      <th>Age</th>\n",
       "      <th>Hispanic_Origin</th>\n",
       "      <th>Race</th>\n",
       "      <th>political_party</th>\n",
       "      <th>valued_at_work</th>\n",
       "      <th>self_efficacy</th>\n",
       "      <th>Twenty4_7_365</th>\n",
       "      <th>political_skill</th>\n",
       "      <th>job</th>\n",
       "      <th>self_advocacy_workshop</th>\n",
       "      <th>intent_leave</th>\n",
       "      <th>RaiseRequest</th>\n",
       "      <th>got_last_raise</th>\n",
       "      <th>emp_sat</th>\n",
       "      <th>Efficacy_360</th>\n",
       "    </tr>\n",
       "  </thead>\n",
       "  <tbody>\n",
       "    <tr>\n",
       "      <th>0</th>\n",
       "      <td>51</td>\n",
       "      <td>1.0</td>\n",
       "      <td>30.0</td>\n",
       "      <td>0.0</td>\n",
       "      <td>1.0</td>\n",
       "      <td>1.0</td>\n",
       "      <td>4.0</td>\n",
       "      <td>1.0</td>\n",
       "      <td>3.0</td>\n",
       "      <td>4.0</td>\n",
       "      <td>1.0</td>\n",
       "      <td>0.0</td>\n",
       "      <td>0.0</td>\n",
       "      <td>2.26</td>\n",
       "      <td>0.0</td>\n",
       "      <td>22.0</td>\n",
       "      <td>25.0</td>\n",
       "    </tr>\n",
       "    <tr>\n",
       "      <th>1</th>\n",
       "      <td>28</td>\n",
       "      <td>0.0</td>\n",
       "      <td>39.0</td>\n",
       "      <td>0.0</td>\n",
       "      <td>1.0</td>\n",
       "      <td>1.0</td>\n",
       "      <td>3.0</td>\n",
       "      <td>2.0</td>\n",
       "      <td>2.0</td>\n",
       "      <td>3.0</td>\n",
       "      <td>2.0</td>\n",
       "      <td>0.0</td>\n",
       "      <td>1.0</td>\n",
       "      <td>6.50</td>\n",
       "      <td>0.0</td>\n",
       "      <td>20.0</td>\n",
       "      <td>30.0</td>\n",
       "    </tr>\n",
       "    <tr>\n",
       "      <th>2</th>\n",
       "      <td>32</td>\n",
       "      <td>1.0</td>\n",
       "      <td>23.0</td>\n",
       "      <td>0.0</td>\n",
       "      <td>1.0</td>\n",
       "      <td>2.0</td>\n",
       "      <td>2.0</td>\n",
       "      <td>2.0</td>\n",
       "      <td>1.0</td>\n",
       "      <td>3.0</td>\n",
       "      <td>3.0</td>\n",
       "      <td>0.0</td>\n",
       "      <td>0.0</td>\n",
       "      <td>2.10</td>\n",
       "      <td>0.0</td>\n",
       "      <td>24.0</td>\n",
       "      <td>40.0</td>\n",
       "    </tr>\n",
       "    <tr>\n",
       "      <th>3</th>\n",
       "      <td>55</td>\n",
       "      <td>1.0</td>\n",
       "      <td>24.0</td>\n",
       "      <td>0.0</td>\n",
       "      <td>1.0</td>\n",
       "      <td>3.0</td>\n",
       "      <td>2.0</td>\n",
       "      <td>2.0</td>\n",
       "      <td>1.0</td>\n",
       "      <td>2.0</td>\n",
       "      <td>1.0</td>\n",
       "      <td>0.0</td>\n",
       "      <td>0.0</td>\n",
       "      <td>2.58</td>\n",
       "      <td>0.0</td>\n",
       "      <td>25.0</td>\n",
       "      <td>50.0</td>\n",
       "    </tr>\n",
       "    <tr>\n",
       "      <th>4</th>\n",
       "      <td>60</td>\n",
       "      <td>0.0</td>\n",
       "      <td>34.0</td>\n",
       "      <td>0.0</td>\n",
       "      <td>1.0</td>\n",
       "      <td>1.0</td>\n",
       "      <td>3.0</td>\n",
       "      <td>2.0</td>\n",
       "      <td>3.0</td>\n",
       "      <td>3.0</td>\n",
       "      <td>1.0</td>\n",
       "      <td>0.0</td>\n",
       "      <td>0.0</td>\n",
       "      <td>3.75</td>\n",
       "      <td>0.0</td>\n",
       "      <td>22.0</td>\n",
       "      <td>60.0</td>\n",
       "    </tr>\n",
       "  </tbody>\n",
       "</table>\n",
       "</div>"
      ],
      "text/plain": [
       "   ID  Sex   Age  Hispanic_Origin  Race  political_party  valued_at_work  \\\n",
       "0  51  1.0  30.0              0.0   1.0              1.0             4.0   \n",
       "1  28  0.0  39.0              0.0   1.0              1.0             3.0   \n",
       "2  32  1.0  23.0              0.0   1.0              2.0             2.0   \n",
       "3  55  1.0  24.0              0.0   1.0              3.0             2.0   \n",
       "4  60  0.0  34.0              0.0   1.0              1.0             3.0   \n",
       "\n",
       "   self_efficacy  Twenty4_7_365  political_skill  job  self_advocacy_workshop  \\\n",
       "0            1.0            3.0              4.0  1.0                     0.0   \n",
       "1            2.0            2.0              3.0  2.0                     0.0   \n",
       "2            2.0            1.0              3.0  3.0                     0.0   \n",
       "3            2.0            1.0              2.0  1.0                     0.0   \n",
       "4            2.0            3.0              3.0  1.0                     0.0   \n",
       "\n",
       "   intent_leave  RaiseRequest  got_last_raise  emp_sat  Efficacy_360  \n",
       "0           0.0          2.26             0.0     22.0          25.0  \n",
       "1           1.0          6.50             0.0     20.0          30.0  \n",
       "2           0.0          2.10             0.0     24.0          40.0  \n",
       "3           0.0          2.58             0.0     25.0          50.0  \n",
       "4           0.0          3.75             0.0     22.0          60.0  "
      ]
     },
     "execution_count": 100,
     "metadata": {},
     "output_type": "execute_result"
    }
   ],
   "source": [
    "# read the csv file \n",
    "df = pd.read_csv('Diebold_Dataset.csv')\n",
    "df.head()"
   ]
  },
  {
   "cell_type": "code",
   "execution_count": 101,
   "metadata": {},
   "outputs": [],
   "source": [
    "df = df[df[\"Sex\"] == 1.0]  # Female participants were given encoding of 1 under Sex column\n",
    "\n",
    "selected_features = [\"Hispanic_Origin\", \"self_efficacy\", \"RaiseRequest\", \"got_last_raise\"]\n",
    "\n",
    "# Filter dataset on selected features \n",
    "df = df[selected_features]\n",
    "df = df.dropna()"
   ]
  },
  {
   "cell_type": "code",
   "execution_count": 102,
   "metadata": {},
   "outputs": [
    {
     "data": {
      "text/html": [
       "<div>\n",
       "<style scoped>\n",
       "    .dataframe tbody tr th:only-of-type {\n",
       "        vertical-align: middle;\n",
       "    }\n",
       "\n",
       "    .dataframe tbody tr th {\n",
       "        vertical-align: top;\n",
       "    }\n",
       "\n",
       "    .dataframe thead th {\n",
       "        text-align: right;\n",
       "    }\n",
       "</style>\n",
       "<table border=\"1\" class=\"dataframe\">\n",
       "  <thead>\n",
       "    <tr style=\"text-align: right;\">\n",
       "      <th></th>\n",
       "      <th>hispanic_ethnicity</th>\n",
       "      <th>self_efficacy</th>\n",
       "      <th>raise_request</th>\n",
       "      <th>raise_received</th>\n",
       "    </tr>\n",
       "  </thead>\n",
       "  <tbody>\n",
       "    <tr>\n",
       "      <th>0</th>\n",
       "      <td>0.0</td>\n",
       "      <td>1.0</td>\n",
       "      <td>2.26</td>\n",
       "      <td>0.0</td>\n",
       "    </tr>\n",
       "    <tr>\n",
       "      <th>2</th>\n",
       "      <td>0.0</td>\n",
       "      <td>2.0</td>\n",
       "      <td>2.10</td>\n",
       "      <td>0.0</td>\n",
       "    </tr>\n",
       "    <tr>\n",
       "      <th>3</th>\n",
       "      <td>0.0</td>\n",
       "      <td>2.0</td>\n",
       "      <td>2.58</td>\n",
       "      <td>0.0</td>\n",
       "    </tr>\n",
       "    <tr>\n",
       "      <th>6</th>\n",
       "      <td>0.0</td>\n",
       "      <td>2.0</td>\n",
       "      <td>2.25</td>\n",
       "      <td>0.0</td>\n",
       "    </tr>\n",
       "    <tr>\n",
       "      <th>10</th>\n",
       "      <td>0.0</td>\n",
       "      <td>3.0</td>\n",
       "      <td>1.00</td>\n",
       "      <td>0.0</td>\n",
       "    </tr>\n",
       "  </tbody>\n",
       "</table>\n",
       "</div>"
      ],
      "text/plain": [
       "    hispanic_ethnicity  self_efficacy  raise_request  raise_received\n",
       "0                  0.0            1.0           2.26             0.0\n",
       "2                  0.0            2.0           2.10             0.0\n",
       "3                  0.0            2.0           2.58             0.0\n",
       "6                  0.0            2.0           2.25             0.0\n",
       "10                 0.0            3.0           1.00             0.0"
      ]
     },
     "execution_count": 102,
     "metadata": {},
     "output_type": "execute_result"
    }
   ],
   "source": [
    "# Reassign Hispanic Origin to just \"hispanic_ethnicity\" using the true/false dichotomy and normalize variable names\n",
    "df[\"Hispanic_Origin\"] = df[\"Hispanic_Origin\"].apply(lambda x: 1 if x > 0 else x)\n",
    "df.rename(columns={\n",
    "    \"RaiseRequest\": \"raise_request\",\n",
    "    \"got_last_raise\": \"raise_received\",\n",
    "    \"Hispanic_Origin\": \"hispanic_ethnicity\"\n",
    "    }, inplace=True)\n",
    "df.head()"
   ]
  },
  {
   "cell_type": "markdown",
   "metadata": {},
   "source": [
    "### Run Descriptive Analyses"
   ]
  },
  {
   "cell_type": "code",
   "execution_count": 103,
   "metadata": {},
   "outputs": [
    {
     "name": "stderr",
     "output_type": "stream",
     "text": [
      "/Users/erosado/work/text-and-convo-ai-ml-experiments/venv/lib/python3.10/site-packages/seaborn/_oldcore.py:1119: FutureWarning: use_inf_as_na option is deprecated and will be removed in a future version. Convert inf values to NaN before operating instead.\n",
      "  with pd.option_context('mode.use_inf_as_na', True):\n"
     ]
    },
    {
     "data": {
      "image/png": "[encoded data removed]",
      "text/plain": [
       "<Figure size 640x480 with 1 Axes>"
      ]
     },
     "metadata": {},
     "output_type": "display_data"
    }
   ],
   "source": [
    "sns.histplot(df['raise_request'], bins=10, kde=True)\n",
    "plt.title(\"Distribution of Raise Requested (%)\")\n",
    "plt.show()"
   ]
  },
  {
   "cell_type": "code",
   "execution_count": 104,
   "metadata": {},
   "outputs": [
    {
     "name": "stderr",
     "output_type": "stream",
     "text": [
      "/Users/erosado/work/text-and-convo-ai-ml-experiments/venv/lib/python3.10/site-packages/seaborn/_oldcore.py:1119: FutureWarning: use_inf_as_na option is deprecated and will be removed in a future version. Convert inf values to NaN before operating instead.\n",
      "  with pd.option_context('mode.use_inf_as_na', True):\n"
     ]
    },
    {
     "data": {
      "image/png": "[encoded data removed]",
      "text/plain": [
       "<Figure size 640x480 with 1 Axes>"
      ]
     },
     "metadata": {},
     "output_type": "display_data"
    }
   ],
   "source": [
    "sns.histplot(df['self_efficacy'], bins=5, kde=True)\n",
    "plt.title(\"Distribution of Self Efficacy\")\n",
    "plt.show()"
   ]
  },
  {
   "cell_type": "code",
   "execution_count": 105,
   "metadata": {},
   "outputs": [
    {
     "name": "stdout",
     "output_type": "stream",
     "text": [
      "\n",
      "Variable: hispanic_ethnicity\n",
      "   Category  Frequency  Percentage\n",
      "0       0.0         41   80.392157\n",
      "1       1.0         10   19.607843\n",
      "\n",
      "Variable: raise_received\n",
      "   Category  Frequency  Percentage\n",
      "0       1.0         27   52.941176\n",
      "1       0.0         24   47.058824\n"
     ]
    }
   ],
   "source": [
    "def compute_frequencies(df, categorical_vars):\n",
    "    \"\"\"\n",
    "    Computes frequency counts and percentages for categorical or binary variables.\n",
    "    \"\"\"\n",
    "    results = {}\n",
    "\n",
    "    for col in categorical_vars:\n",
    "        freq_counts = df[col].value_counts()\n",
    "        proportions = df[col].value_counts(normalize=True) * 100  # Convert to percentage\n",
    "\n",
    "        results[col] = pd.DataFrame({\n",
    "            \"Category\": freq_counts.index,\n",
    "            \"Frequency\": freq_counts.values,\n",
    "            \"Percentage\": proportions.values\n",
    "        })\n",
    "\n",
    "    return results\n",
    "\n",
    "categorical_columns = ['hispanic_ethnicity', 'raise_received']\n",
    "frequencies = compute_frequencies(df, categorical_columns)\n",
    "\n",
    "for var, table in frequencies.items():\n",
    "    print(f\"\\nVariable: {var}\")\n",
    "    print(table)"
   ]
  },
  {
   "cell_type": "code",
   "execution_count": 107,
   "metadata": {},
   "outputs": [
    {
     "data": {
      "image/png": "[encoded data removed]",
      "text/plain": [
       "<Figure size 600x400 with 1 Axes>"
      ]
     },
     "metadata": {},
     "output_type": "display_data"
    }
   ],
   "source": [
    "def plot_bar_chart(df, column, labels={0: \"Non-Hispanic\", 1: \"Hispanic\"}):\n",
    "    \"\"\"\n",
    "    Creates a bar chart for a categorical variable.\n",
    "    \"\"\"\n",
    "    df[column] = df[column].replace(labels)\n",
    "    plt.figure(figsize=(6, 4))\n",
    "    sns.countplot(x=df[column])\n",
    "    plt.xlabel(\"Ethnicity\")\n",
    "    plt.ylabel(\"Count\")\n",
    "    plt.title(\"Female Employee Ethnicity Composition\")\n",
    "    plt.show()\n",
    "\n",
    "plot_bar_chart(df, 'hispanic_ethnicity')"
   ]
  },
  {
   "cell_type": "code",
   "execution_count": 108,
   "metadata": {},
   "outputs": [
    {
     "name": "stdout",
     "output_type": "stream",
     "text": [
      "                   Mean  Median  Mode  Trimmed Mean (10%)  Standard Deviation  \\\n",
      "self_efficacy  3.705882     4.0  3.00            3.780488            1.082481   \n",
      "raise_request  2.284118     1.9  0.15            2.106098            1.608804   \n",
      "\n",
      "               Variance  Range  IQR (Interquartile Range)  \n",
      "self_efficacy  1.171765    4.0                      2.000  \n",
      "raise_request  2.588249    6.0                      1.565  \n"
     ]
    }
   ],
   "source": [
    "def compute_central_tendencies_and_variance(df, continuous_vars):\n",
    "    \"\"\"\n",
    "    Computes central tendency measures for continuous variables.\n",
    "    \"\"\"\n",
    "    stats = {}\n",
    "    for col in continuous_vars:\n",
    "        stats[col] = {\n",
    "            'Mean': np.mean(df[col]),\n",
    "            'Median': np.median(df[col]),\n",
    "            'Mode': df[col].mode().iloc[0] if not df[col].mode().empty else None,\n",
    "            'Trimmed Mean (10%)': np.mean(df[col].sort_values().iloc[int(len(df[col]) * 0.1):-int(len(df[col]) * 0.1)]),\n",
    "            'Standard Deviation': np.std(df[col], ddof=1),\n",
    "            'Variance': np.var(df[col], ddof=1),\n",
    "            'Range': df[col].max() - df[col].min(),\n",
    "            'IQR (Interquartile Range)': np.percentile(df[col], 75) - np.percentile(df[col], 25)\n",
    "        }\n",
    "    \n",
    "    return pd.DataFrame(stats).T\n",
    "\n",
    "# Compute statistics for all variables\n",
    "stats_df = compute_central_tendencies_and_variance(df, [\"self_efficacy\", \"raise_request\"])\n",
    "print(stats_df)"
   ]
  },
  {
   "cell_type": "markdown",
   "metadata": {},
   "source": [
    "The dataset has more non-Hispanic females than Hispanic. To mitigate the potential for statistical bias and issue with generalizability, Statistical Weighting will be used to ensure that the underrepresented group (Hispanic females) contributes equally to the analysis. The hispanic_ethnicity column has the dichotomy of interest (0 = Non-Hispanic, 1 = Hispanic)."
   ]
  },
  {
   "cell_type": "markdown",
   "metadata": {},
   "source": [
    "### Run Inferencial Analyses"
   ]
  },
  {
   "cell_type": "code",
   "execution_count": 106,
   "metadata": {},
   "outputs": [
    {
     "data": {
      "text/html": [
       "<div>\n",
       "<style scoped>\n",
       "    .dataframe tbody tr th:only-of-type {\n",
       "        vertical-align: middle;\n",
       "    }\n",
       "\n",
       "    .dataframe tbody tr th {\n",
       "        vertical-align: top;\n",
       "    }\n",
       "\n",
       "    .dataframe thead th {\n",
       "        text-align: right;\n",
       "    }\n",
       "</style>\n",
       "<table border=\"1\" class=\"dataframe\">\n",
       "  <thead>\n",
       "    <tr style=\"text-align: right;\">\n",
       "      <th></th>\n",
       "      <th>hispanic_ethnicity</th>\n",
       "      <th>self_efficacy</th>\n",
       "      <th>raise_request</th>\n",
       "      <th>raise_received</th>\n",
       "      <th>weight</th>\n",
       "    </tr>\n",
       "  </thead>\n",
       "  <tbody>\n",
       "    <tr>\n",
       "      <th>0</th>\n",
       "      <td>0.0</td>\n",
       "      <td>1.0</td>\n",
       "      <td>2.26</td>\n",
       "      <td>0.0</td>\n",
       "      <td>1.243902</td>\n",
       "    </tr>\n",
       "    <tr>\n",
       "      <th>2</th>\n",
       "      <td>0.0</td>\n",
       "      <td>2.0</td>\n",
       "      <td>2.10</td>\n",
       "      <td>0.0</td>\n",
       "      <td>1.243902</td>\n",
       "    </tr>\n",
       "    <tr>\n",
       "      <th>3</th>\n",
       "      <td>0.0</td>\n",
       "      <td>2.0</td>\n",
       "      <td>2.58</td>\n",
       "      <td>0.0</td>\n",
       "      <td>1.243902</td>\n",
       "    </tr>\n",
       "    <tr>\n",
       "      <th>6</th>\n",
       "      <td>0.0</td>\n",
       "      <td>2.0</td>\n",
       "      <td>2.25</td>\n",
       "      <td>0.0</td>\n",
       "      <td>1.243902</td>\n",
       "    </tr>\n",
       "    <tr>\n",
       "      <th>10</th>\n",
       "      <td>0.0</td>\n",
       "      <td>3.0</td>\n",
       "      <td>1.00</td>\n",
       "      <td>0.0</td>\n",
       "      <td>1.243902</td>\n",
       "    </tr>\n",
       "  </tbody>\n",
       "</table>\n",
       "</div>"
      ],
      "text/plain": [
       "    hispanic_ethnicity  self_efficacy  raise_request  raise_received    weight\n",
       "0                  0.0            1.0           2.26             0.0  1.243902\n",
       "2                  0.0            2.0           2.10             0.0  1.243902\n",
       "3                  0.0            2.0           2.58             0.0  1.243902\n",
       "6                  0.0            2.0           2.25             0.0  1.243902\n",
       "10                 0.0            3.0           1.00             0.0  1.243902"
      ]
     },
     "execution_count": 106,
     "metadata": {},
     "output_type": "execute_result"
    }
   ],
   "source": [
    "# Compute proportions\n",
    "group_counts = df['hispanic_ethnicity'].value_counts(normalize=True)\n",
    "\n",
    "# Compute inverse weights\n",
    "df['weight'] = df['hispanic_ethnicity'].map(lambda x: 1 / group_counts[x])\n",
    "\n",
    "df.head()"
   ]
  },
  {
   "cell_type": "code",
   "execution_count": null,
   "metadata": {},
   "outputs": [
    {
     "data": {
      "image/png": "[encoded data removed]",
      "text/plain": [
       "<Figure size 700x500 with 1 Axes>"
      ]
     },
     "metadata": {},
     "output_type": "display_data"
    },
    {
     "data": {
      "image/png": "[encoded data removed]",
      "text/plain": [
       "<Figure size 700x500 with 1 Axes>"
      ]
     },
     "metadata": {},
     "output_type": "display_data"
    }
   ],
   "source": [
    "def plot_scatter_with_trend(df, x, y):\n",
    "    \"\"\"\n",
    "    Creates a scatter plot with a linear regression trend line.\n",
    "    \"\"\"\n",
    "    plt.figure(figsize=(7, 5))\n",
    "    sns.regplot(x=df[x], y=df[y], scatter_kws={\"alpha\": 0.5}, line_kws={\"color\": \"red\"})\n",
    "    plt.xlabel(x.replace(\"_\", \" \").title())\n",
    "    plt.ylabel(y.replace(\"_\", \" \").title())\n",
    "    plt.title(f\"{x.replace('_', ' ').title()} vs. {y.replace('_', ' ').title()}\")\n",
    "    plt.show()\n",
    "\n",
    "\n",
    "plot_scatter_with_trend(df, 'self_efficacy', 'raise_request')\n",
    "plot_scatter_with_trend(df, 'self_efficacy', 'raise_received')"
   ]
  },
  {
   "cell_type": "code",
   "execution_count": 73,
   "metadata": {},
   "outputs": [
    {
     "name": "stdout",
     "output_type": "stream",
     "text": [
      "Pearson Correlation (self-efficacy x raise requested): 0.3129690683618638, P-Value: 0.025342528052971797\n",
      "\n",
      "Pearson Correlation (self-efficacy x raise received): 0.2177533419342767, P-Value: 0.12478313178119065\n"
     ]
    }
   ],
   "source": [
    "\n",
    "# Compute Pearson correlation since the relationship is linear\n",
    "correlation, p_value = pearsonr(df['self_efficacy'], df['raise_request'])\n",
    "\n",
    "print(f\"Pearson Correlation (self-efficacy x raise requested): {correlation}, P-Value: {p_value}\")\n",
    "\n",
    "correlation, p_value = pearsonr(df['self_efficacy'], df['raise_received'])\n",
    "\n",
    "print(f\"\\nPearson Correlation (self-efficacy x raise received): {correlation}, P-Value: {p_value}\")"
   ]
  },
  {
   "cell_type": "code",
   "execution_count": 75,
   "metadata": {},
   "outputs": [
    {
     "name": "stdout",
     "output_type": "stream",
     "text": [
      "{'Non-Hispanic': {'Correlation': 0.24251420016980008, 'p-value': 0.1265784804519679}, 'Hispanic': {'Correlation': 0.5693677626430392, 'p-value': 0.08579787368640286}}\n",
      "{'Non-Hispanic': {'Correlation': 0.17954308779539957, 'p-value': 0.2613351566403708}, 'Hispanic': {'Correlation': 0.040128617695256455, 'p-value': 0.9123598671021361}}\n"
     ]
    }
   ],
   "source": [
    "\n",
    "def compute_correlation_by_group(df, group_col, x, y):\n",
    "    \"\"\"\n",
    "    Computes Pearson correlation for a given independent and dependent variable,\n",
    "    split by a categorical group.\n",
    "\n",
    "    Parameters:\n",
    "    df (pd.DataFrame): DataFrame containing the data.\n",
    "    group_col (str): Column name of the categorical variable (e.g., 'ethnicity').\n",
    "    x (str): Independent variable (e.g., 'self_efficacy').\n",
    "    y (str): Dependent variable (e.g., 'raise_request').\n",
    "\n",
    "    Returns:\n",
    "    dict: Correlation coefficients and p-values for each group.\n",
    "    \"\"\"\n",
    "    results = {}\n",
    "\n",
    "    for group in df[group_col].unique():\n",
    "        subset = df[df[group_col] == group]\n",
    "        if len(subset) > 1:  # Ensure enough data points to compute correlation\n",
    "            corr, p_value = pearsonr(subset[x], subset[y])\n",
    "            results[group] = {\"Correlation\": corr, \"p-value\": p_value}\n",
    "        else:\n",
    "            results[group] = {\"Correlation\": None, \"p-value\": None}  # Not enough data\n",
    "\n",
    "    return results\n",
    "\n",
    "correlation_results = compute_correlation_by_group(\n",
    "    df, 'hispanic_ethnicity', 'self_efficacy', 'raise_request'\n",
    "    )\n",
    "print(\"hispanic_ethnicity -> self_efficacy -> raise_request\")\n",
    "print(correlation_results)\n",
    "\n",
    "correlation_results = compute_correlation_by_group(\n",
    "    df, 'hispanic_ethnicity', 'self_efficacy', 'raise_received'\n",
    "    )\n",
    "print(\"\\nhispanic_ethnicity -> self_efficacy -> raise_received\")\n",
    "print(correlation_results)"
   ]
  },
  {
   "cell_type": "code",
   "execution_count": 80,
   "metadata": {},
   "outputs": [
    {
     "data": {
      "text/html": [
       "<div>\n",
       "<style scoped>\n",
       "    .dataframe tbody tr th:only-of-type {\n",
       "        vertical-align: middle;\n",
       "    }\n",
       "\n",
       "    .dataframe tbody tr th {\n",
       "        vertical-align: top;\n",
       "    }\n",
       "\n",
       "    .dataframe thead th {\n",
       "        text-align: right;\n",
       "    }\n",
       "</style>\n",
       "<table border=\"1\" class=\"dataframe\">\n",
       "  <thead>\n",
       "    <tr style=\"text-align: right;\">\n",
       "      <th></th>\n",
       "      <th>hispanic_ethnicity</th>\n",
       "      <th>self_efficacy</th>\n",
       "      <th>raise_request</th>\n",
       "      <th>raise_received</th>\n",
       "      <th>weight</th>\n",
       "      <th>hispanic_ethnicity_enc</th>\n",
       "    </tr>\n",
       "  </thead>\n",
       "  <tbody>\n",
       "    <tr>\n",
       "      <th>0</th>\n",
       "      <td>Non-Hispanic</td>\n",
       "      <td>1.0</td>\n",
       "      <td>2.26</td>\n",
       "      <td>0.0</td>\n",
       "      <td>1.243902</td>\n",
       "      <td>0</td>\n",
       "    </tr>\n",
       "    <tr>\n",
       "      <th>2</th>\n",
       "      <td>Non-Hispanic</td>\n",
       "      <td>2.0</td>\n",
       "      <td>2.10</td>\n",
       "      <td>0.0</td>\n",
       "      <td>1.243902</td>\n",
       "      <td>0</td>\n",
       "    </tr>\n",
       "    <tr>\n",
       "      <th>3</th>\n",
       "      <td>Non-Hispanic</td>\n",
       "      <td>2.0</td>\n",
       "      <td>2.58</td>\n",
       "      <td>0.0</td>\n",
       "      <td>1.243902</td>\n",
       "      <td>0</td>\n",
       "    </tr>\n",
       "    <tr>\n",
       "      <th>6</th>\n",
       "      <td>Non-Hispanic</td>\n",
       "      <td>2.0</td>\n",
       "      <td>2.25</td>\n",
       "      <td>0.0</td>\n",
       "      <td>1.243902</td>\n",
       "      <td>0</td>\n",
       "    </tr>\n",
       "    <tr>\n",
       "      <th>10</th>\n",
       "      <td>Non-Hispanic</td>\n",
       "      <td>3.0</td>\n",
       "      <td>1.00</td>\n",
       "      <td>0.0</td>\n",
       "      <td>1.243902</td>\n",
       "      <td>0</td>\n",
       "    </tr>\n",
       "  </tbody>\n",
       "</table>\n",
       "</div>"
      ],
      "text/plain": [
       "   hispanic_ethnicity  self_efficacy  raise_request  raise_received    weight  \\\n",
       "0        Non-Hispanic            1.0           2.26             0.0  1.243902   \n",
       "2        Non-Hispanic            2.0           2.10             0.0  1.243902   \n",
       "3        Non-Hispanic            2.0           2.58             0.0  1.243902   \n",
       "6        Non-Hispanic            2.0           2.25             0.0  1.243902   \n",
       "10       Non-Hispanic            3.0           1.00             0.0  1.243902   \n",
       "\n",
       "    hispanic_ethnicity_enc  \n",
       "0                        0  \n",
       "2                        0  \n",
       "3                        0  \n",
       "6                        0  \n",
       "10                       0  "
      ]
     },
     "execution_count": 80,
     "metadata": {},
     "output_type": "execute_result"
    }
   ],
   "source": [
    "# re-encode the hispanic ethnicity\n",
    "df['hispanic_ethnicity_enc'] = df['hispanic_ethnicity'].map({'Hispanic': 1, 'Non-Hispanic': 0})\n",
    "df.head()"
   ]
  },
  {
   "cell_type": "code",
   "execution_count": 82,
   "metadata": {},
   "outputs": [
    {
     "name": "stdout",
     "output_type": "stream",
     "text": [
      "                path      coef        se      pval  CI[2.5%]  CI[97.5%]  sig\n",
      "0  self_efficacy ~ X  0.490244  0.379244  0.202181 -0.271875   1.252363   No\n",
      "1  Y ~ self_efficacy  0.465141  0.201651  0.025343  0.059908   0.870373  Yes\n",
      "2              Total  0.854415  0.560022  0.133519 -0.270992   1.979821   No\n",
      "3             Direct  0.647744  0.551447  0.245939 -0.461015   1.756503   No\n",
      "4           Indirect  0.206671  0.167280  0.151200 -0.037564   0.639027   No\n"
     ]
    }
   ],
   "source": [
    "import pingouin as pg\n",
    "\n",
    "# Run mediation analysis on hispanic_ethnicity -> self_efficacy -> raise_request\n",
    "mediation_results = pg.mediation_analysis(\n",
    "    data=df, x='hispanic_ethnicity_enc', m='self_efficacy', y='raise_request', n_boot=5000\n",
    ")\n",
    "\n",
    "print(mediation_results)"
   ]
  },
  {
   "cell_type": "code",
   "execution_count": 87,
   "metadata": {},
   "outputs": [
    {
     "name": "stdout",
     "output_type": "stream",
     "text": [
      "                path      coef        se      pval  CI[2.5%]  CI[97.5%]  sig\n",
      "0  self_efficacy ~ X  0.490244  0.379244  0.202181 -0.271875   1.252363   No\n",
      "1  Y ~ self_efficacy  0.101406  0.064931  0.124783 -0.029078   0.231889   No\n",
      "2              Total  0.460976  0.167087  0.008132  0.125201   0.796750  Yes\n",
      "3             Direct  0.425287  0.169314  0.015428  0.084860   0.765715  Yes\n",
      "4           Indirect  0.035688  0.044263  0.348400 -0.014678   0.172102   No\n"
     ]
    }
   ],
   "source": [
    "# Run mediation analysis on hispanic_ethnicity -> self_efficacy -> raise_received\n",
    "mediation_results = pg.mediation_analysis(\n",
    "    data=df, x='hispanic_ethnicity_enc', m='self_efficacy', y='raise_received', n_boot=5000\n",
    ")\n",
    "\n",
    "print(mediation_results)"
   ]
  },
  {
   "cell_type": "markdown",
   "metadata": {},
   "source": [
    "Using the results of the mediating analysis, self-efficacy does mediate the relationship of raise requested, just not for raise received. From the correlation analysis, we see a weak to moderate positive correlation between self-efficacy and raise requested but an insignificant weak positive correlation between self-efficacy and raise received. When the female subpopulation was split by Hispanic and non-Hispanic origins, neither variable pairing yielded a statistically significant positive relationship.\n",
    "\n",
    "The analysis was limited as it only analyed female employees and did not account for the effect of self-advocacy training amongst individuals."
   ]
  }
 ],
 "metadata": {
  "kernelspec": {
   "display_name": "venv",
   "language": "python",
   "name": "python3"
  },
  "language_info": {
   "codemirror_mode": {
    "name": "ipython",
    "version": 3
   },
   "file_extension": ".py",
   "mimetype": "text/x-python",
   "name": "python",
   "nbconvert_exporter": "python",
   "pygments_lexer": "ipython3",
   "version": "3.10.14"
  }
 },
 "nbformat": 4,
 "nbformat_minor": 2
}

{
  "cells": [
    {
      "cell_type": "markdown",
      "metadata": {
        "id": "2AqPte8bet51"
      },
      "source": [
        "# Welcome To The Notebook"
      ]
    },
    {
      "cell_type": "markdown",
      "metadata": {
        "id": "1Rp80dTGpsDD"
      },
      "source": [
        "### Task 1 - Set up the project environment"
      ]
    },
    {
      "cell_type": "code",
      "execution_count": null,
      "metadata": {
        "id": "lx4wV2MIUJ8A"
      },
      "outputs": [],
      "source": [
        "!pip install openai==1.7.2 python-dotenv"
      ]
    },
    {
      "cell_type": "markdown",
      "metadata": {
        "id": "qypdUNULptjB"
      },
      "source": [
        "Importing modules"
      ]
    },
    {
      "cell_type": "code",
      "execution_count": 1,
      "metadata": {
        "id": "YFmEp0r5T2eI"
      },
      "outputs": [
        {
          "name": "stdout",
          "output_type": "stream",
          "text": [
            "Modules are imported.\n"
          ]
        }
      ],
      "source": [
        "import pandas as pd\n",
        "import os, time\n",
        "from openai import OpenAI\n",
        "from dotenv import load_dotenv\n",
        "import json\n",
        "import matplotlib.pyplot as plt\n",
        "\n",
        "print(\"Modules are imported.\")"
      ]
    },
    {
      "cell_type": "markdown",
      "metadata": {
        "id": "XfVAcV_XqDja"
      },
      "source": [
        "Setting up the OpenAI API:\n",
        "\n",
        "* Prepare a .env file to store the OpenAI API key.\n",
        "* Uploading the .env file to our colab environment\n",
        "* Load the API key and setup the API"
      ]
    },
    {
      "cell_type": "code",
      "execution_count": 2,
      "metadata": {
        "id": "rbXC4QM4qCBe"
      },
      "outputs": [],
      "source": [
        "API_KEY = os.getenv(\"APIKEY\")\n",
        "\n",
        "ORG_ID = os.getenv(\"ORGID\")"
      ]
    },
    {
      "cell_type": "markdown",
      "metadata": {
        "id": "rWxipGQIpxH8"
      },
      "source": [
        "Creating OpenAI Client"
      ]
    },
    {
      "cell_type": "code",
      "execution_count": 24,
      "metadata": {
        "id": "nHj-RaA5p0WE"
      },
      "outputs": [
        {
          "data": {
            "text/plain": [
              "<openai.OpenAI at 0x14bfac370>"
            ]
          },
          "execution_count": 24,
          "metadata": {},
          "output_type": "execute_result"
        }
      ],
      "source": [
        "client = OpenAI(\n",
        "    api_key=API_KEY,\n",
        "    organization = ORG_ID\n",
        ")\n",
        "client"
      ]
    },
    {
      "cell_type": "markdown",
      "metadata": {
        "id": "0r2XnfwnqTCK"
      },
      "source": [
        "### Task 2 - Prepare the training data"
      ]
    },
    {
      "cell_type": "markdown",
      "metadata": {
        "id": "-_Alc-CyuHmE"
      },
      "source": [
        "Loading the provided `Customer Complaints.csv`\n",
        "\n"
      ]
    },
    {
      "cell_type": "code",
      "execution_count": 5,
      "metadata": {
        "id": "jan2OKk5qW1J"
      },
      "outputs": [
        {
          "data": {
            "text/html": [
              "<div>\n",
              "<style scoped>\n",
              "    .dataframe tbody tr th:only-of-type {\n",
              "        vertical-align: middle;\n",
              "    }\n",
              "\n",
              "    .dataframe tbody tr th {\n",
              "        vertical-align: top;\n",
              "    }\n",
              "\n",
              "    .dataframe thead th {\n",
              "        text-align: right;\n",
              "    }\n",
              "</style>\n",
              "<table border=\"1\" class=\"dataframe\">\n",
              "  <thead>\n",
              "    <tr style=\"text-align: right;\">\n",
              "      <th></th>\n",
              "      <th>Complaints</th>\n",
              "      <th>Details</th>\n",
              "    </tr>\n",
              "  </thead>\n",
              "  <tbody>\n",
              "    <tr>\n",
              "      <th>0</th>\n",
              "      <td>Unreliable internet! Sick of constant outages...</td>\n",
              "      <td>{\"Topic\": \"Internet\", \"Problem\": \"Unreliable s...</td>\n",
              "    </tr>\n",
              "    <tr>\n",
              "      <th>1</th>\n",
              "      <td>TV signal keeps dropping during crucial momen...</td>\n",
              "      <td>{\"Topic\": \"TV\", \"Problem\": \"Signal dropout\", \"...</td>\n",
              "    </tr>\n",
              "    <tr>\n",
              "      <th>2</th>\n",
              "      <td>Phone line always crackling! Can't hear a thi...</td>\n",
              "      <td>{\"Topic\": \"Phone\", \"Problem\": \"Crackling line\"...</td>\n",
              "    </tr>\n",
              "    <tr>\n",
              "      <th>3</th>\n",
              "      <td>Ridiculous prices for such terrible service! ...</td>\n",
              "      <td>{\"Topic\": \"Billing\", \"Problem\": \"Overcharged\",...</td>\n",
              "    </tr>\n",
              "    <tr>\n",
              "      <th>4</th>\n",
              "      <td>Internet speed slower than a snail! Can't str...</td>\n",
              "      <td>{\"Topic\": \"Internet\", \"Problem\": \"Slow speed\",...</td>\n",
              "    </tr>\n",
              "  </tbody>\n",
              "</table>\n",
              "</div>"
            ],
            "text/plain": [
              "                                          Complaints  \\\n",
              "0   Unreliable internet! Sick of constant outages...   \n",
              "1   TV signal keeps dropping during crucial momen...   \n",
              "2   Phone line always crackling! Can't hear a thi...   \n",
              "3   Ridiculous prices for such terrible service! ...   \n",
              "4   Internet speed slower than a snail! Can't str...   \n",
              "\n",
              "                                             Details  \n",
              "0  {\"Topic\": \"Internet\", \"Problem\": \"Unreliable s...  \n",
              "1  {\"Topic\": \"TV\", \"Problem\": \"Signal dropout\", \"...  \n",
              "2  {\"Topic\": \"Phone\", \"Problem\": \"Crackling line\"...  \n",
              "3  {\"Topic\": \"Billing\", \"Problem\": \"Overcharged\",...  \n",
              "4  {\"Topic\": \"Internet\", \"Problem\": \"Slow speed\",...  "
            ]
          },
          "execution_count": 5,
          "metadata": {},
          "output_type": "execute_result"
        }
      ],
      "source": [
        "training_data = pd.read_csv(\"./Customer Complaints.csv\")\n",
        "training_data.head()"
      ]
    },
    {
      "cell_type": "markdown",
      "metadata": {
        "id": "uIK863G-qvMN"
      },
      "source": [
        "**Converting the Complaints records to json**\n",
        "\n",
        "To be able to use the data for the fine-tuning purpose, we first need to convert each row of the dataframe into the following format:\n",
        "\n",
        "<pre>\n",
        "<code>\n",
        "{\n",
        "  <span style=\"color: blue;\">\"messages\"</span>: [\n",
        "    {\n",
        "      <span style=\"color: blue;\">\"role\"</span>: <span style=\"color: red;\">\"system\"</span>,\n",
        "      <span style=\"color: blue;\">\"content\"</span>: \"<span style=\"color: green;\">Providing context about the user's prompt.\n",
        "                  It may include information about the task,\n",
        "                  instructions, or background details relevant\n",
        "                  to the conversation.</span>\"\n",
        "    },\n",
        "    {\n",
        "      <span style=\"color: blue;\">\"role\"</span>: <span style=\"color: red;\">\"user\"</span>,\n",
        "      <span style=\"color: blue;\">\"content\"</span>: \"<span style=\"color: green;\">the prompt or input provided by the user,\n",
        "                  which typically initiates the conversation with the assistant.</span>\"\n",
        "    },\n",
        "    {\n",
        "      <span style=\"color: blue;\">\"role\"</span>: <span style=\"color: red;\">\"assistant\"</span>,\n",
        "      <span style=\"color: blue;\">\"content\"</span>: \"<span style=\"color: green;\">The desired response or output generated by\n",
        "                  the assistant in response to the user's prompt.</span>\"\n",
        "    }\n",
        "  ]\n",
        "}\n",
        "</code>\n",
        "</pre>\n",
        "\n",
        "Let's get started!"
      ]
    },
    {
      "cell_type": "markdown",
      "metadata": {
        "id": "fWVCfuvRjdXa"
      },
      "source": [
        "Let's define a method that get's a row of the dataframe and convert it into the json format"
      ]
    },
    {
      "cell_type": "code",
      "execution_count": 7,
      "metadata": {
        "id": "-tHnvRamq5NK"
      },
      "outputs": [],
      "source": [
        "def save_as_json(row):\n",
        "\n",
        "  system_content = \"\"\"\n",
        "      Given a customer complaint text, extract and return the following information in json (dict) format:\n",
        "      - Topic: The product/department that the customer has a complaint about.\n",
        "      - Problem: A two or three-word description of what exactly the problem is.\n",
        "      - Customer_Dissatisfaction_Index: is a number between 0 and 100 showing\n",
        "             how angry the customer is about the problem.\n",
        "  \"\"\"\n",
        "\n",
        "  formatted_data = {\n",
        "        \"messages\": [\n",
        "            {\"role\": \"system\", \"content\": system_content},\n",
        "            {\"role\": \"user\", \"content\": row.Complaints},\n",
        "            {\"role\": \"assistant\", \"content\": row.Details}\n",
        "        ]\n",
        "      }\n",
        "\n",
        "  with open(\"training_data.json\", \"a\") as json_file:\n",
        "        json.dump(formatted_data, json_file)\n",
        "        json_file.write(\"\\n\")"
      ]
    },
    {
      "cell_type": "markdown",
      "metadata": {
        "id": "K3haPgzI-ClF"
      },
      "source": [
        "Now let's use of this method to generate the `training_data.json`"
      ]
    },
    {
      "cell_type": "code",
      "execution_count": 8,
      "metadata": {
        "id": "LNOMxwSX8dE4"
      },
      "outputs": [],
      "source": [
        "for index, row in training_data.iterrows():\n",
        "    save_as_json(row)"
      ]
    },
    {
      "cell_type": "markdown",
      "metadata": {
        "id": "Jo9HFdW0jput"
      },
      "source": [
        "### Task 3 - Fine-tune GPT 3.5 based on our training data"
      ]
    },
    {
      "cell_type": "markdown",
      "metadata": {
        "id": "h4TMhzSNj4hH"
      },
      "source": [
        "Let's import the json file we prepared as our training data"
      ]
    },
    {
      "cell_type": "code",
      "execution_count": 6,
      "metadata": {
        "id": "ExJ2cRU5-XtH"
      },
      "outputs": [
        {
          "data": {
            "text/plain": [
              "FileObject(id='file-0Cd3kGRwZIBT8P5cmsjawHrr', bytes=46722, created_at=1720039250, filename='training_data.json', object='file', purpose='fine-tune', status='processed', status_details=None)"
            ]
          },
          "execution_count": 6,
          "metadata": {},
          "output_type": "execute_result"
        }
      ],
      "source": [
        "data_file = client.files.create(\n",
        "    file = open('training_data.json', 'rb'),\n",
        "    purpose='fine-tune',\n",
        ")\n",
        "data_file"
      ]
    },
    {
      "cell_type": "markdown",
      "metadata": {
        "id": "TiBcO3I0kIU5"
      },
      "source": [
        "Create the Fine Tuning Job"
      ]
    },
    {
      "cell_type": "code",
      "execution_count": 25,
      "metadata": {
        "id": "BXJB348zkMSx"
      },
      "outputs": [
        {
          "data": {
            "text/plain": [
              "FineTuningJob(id='ftjob-ABsaAqgL1jDNSNxgLaoocT01', created_at=1720043526, error=Error(code=None, message=None, param=None), fine_tuned_model=None, finished_at=None, hyperparameters=Hyperparameters(n_epochs='auto', batch_size='auto', learning_rate_multiplier='auto'), model='gpt-3.5-turbo-0125', object='fine_tuning.job', organization_id='org-y4N8JTA9pMOElcFMpsKSUUMv', result_files=[], status='validating_files', trained_tokens=None, training_file='file-0Cd3kGRwZIBT8P5cmsjawHrr', validation_file=None, user_provided_suffix=None, seed=772513477, estimated_finish=None, integrations=[])"
            ]
          },
          "execution_count": 25,
          "metadata": {},
          "output_type": "execute_result"
        }
      ],
      "source": [
        "fine_tuning_job = client.fine_tuning.jobs.create(\n",
        "    training_file=data_file.id,\n",
        "    model = 'gpt-3.5-turbo',\n",
        "    hyperparameters={\n",
        "        'n_epochs': 'auto'\n",
        "    }\n",
        ")\n",
        "fine_tuning_job"
      ]
    },
    {
      "cell_type": "markdown",
      "metadata": {
        "id": "u7XWcO_7kzY6"
      },
      "source": [
        "Let's retrieve the state of the fine-tune"
      ]
    },
    {
      "cell_type": "code",
      "execution_count": 28,
      "metadata": {
        "id": "hpbHjWu3AS4k"
      },
      "outputs": [
        {
          "name": "stdout",
          "output_type": "stream",
          "text": [
            "running\n",
            "running\n",
            "running\n",
            "running\n",
            "running\n",
            "running\n",
            "running\n",
            "running\n",
            "running\n",
            "running\n",
            "running\n",
            "running\n",
            "running\n",
            "running\n",
            "running\n",
            "running\n",
            "running\n",
            "running\n",
            "running\n",
            "running\n",
            "running\n",
            "running\n",
            "running\n",
            "running\n",
            "running\n",
            "running\n",
            "running\n",
            "running\n",
            "running\n",
            "running\n",
            "running\n",
            "running\n",
            "running\n",
            "running\n",
            "running\n",
            "running\n",
            "running\n",
            "running\n",
            "running\n",
            "running\n",
            "running\n",
            "running\n",
            "running\n",
            "succeeded\n",
            "The job is done\n"
          ]
        }
      ],
      "source": [
        "while True:\n",
        "    time.sleep(10)\n",
        "    retrieved_job = client.fine_tuning.jobs.retrieve(\n",
        "        fine_tuning_job.id\n",
        "    )\n",
        "    status = retrieved_job.status\n",
        "    print(status)\n",
        "\n",
        "    if status == \"succeeded\":\n",
        "        print(\"The job is done\")\n",
        "        break\n",
        "    "
      ]
    },
    {
      "cell_type": "markdown",
      "metadata": {
        "id": "4XB-sFc3kO4A"
      },
      "source": [
        "### Task 4 - Evaluate model"
      ]
    },
    {
      "cell_type": "markdown",
      "metadata": {
        "id": "p_3bNsW3k_eR"
      },
      "source": [
        "Let's retrieve the event messages to check out the learning process of our fine-tuning job."
      ]
    },
    {
      "cell_type": "code",
      "execution_count": 30,
      "metadata": {
        "id": "O2bif68aIEGJ"
      },
      "outputs": [
        {
          "name": "stdout",
          "output_type": "stream",
          "text": [
            "The job has successfully completed\n",
            "New fine-tuned model created: ft:gpt-3.5-turbo-0125:viratec-interactive::9h2LaUt0\n",
            "Checkpoint created at step 134 with Snapshot ID: ft:gpt-3.5-turbo-0125:viratec-interactive::9h2LanzS:ckpt-step-134\n",
            "Checkpoint created at step 67 with Snapshot ID: ft:gpt-3.5-turbo-0125:viratec-interactive::9h2Lafg4:ckpt-step-67\n",
            "Step 201/201: training loss=0.05\n",
            "Step 200/201: training loss=0.13\n",
            "Step 199/201: training loss=0.16\n",
            "Step 198/201: training loss=0.06\n",
            "Step 197/201: training loss=0.01\n",
            "Step 196/201: training loss=0.02\n",
            "Step 195/201: training loss=0.08\n",
            "Step 194/201: training loss=0.00\n",
            "Step 193/201: training loss=0.16\n",
            "Step 192/201: training loss=0.12\n",
            "Step 191/201: training loss=0.03\n",
            "Step 190/201: training loss=0.06\n",
            "Step 189/201: training loss=0.03\n",
            "Step 188/201: training loss=0.05\n",
            "Step 187/201: training loss=0.05\n",
            "Step 186/201: training loss=0.06\n",
            "Step 185/201: training loss=0.11\n",
            "Step 184/201: training loss=0.02\n",
            "Step 183/201: training loss=0.01\n",
            "Step 182/201: training loss=0.02\n",
            "Step 181/201: training loss=0.00\n",
            "Step 180/201: training loss=0.01\n",
            "Step 179/201: training loss=0.03\n",
            "Step 178/201: training loss=0.08\n",
            "Step 177/201: training loss=0.02\n",
            "Step 176/201: training loss=0.15\n",
            "Step 175/201: training loss=0.17\n",
            "Step 174/201: training loss=0.00\n",
            "Step 173/201: training loss=0.36\n",
            "Step 172/201: training loss=0.02\n",
            "Step 171/201: training loss=0.07\n",
            "Step 170/201: training loss=0.05\n",
            "Step 169/201: training loss=0.02\n",
            "Step 168/201: training loss=0.02\n",
            "Step 167/201: training loss=0.04\n",
            "Step 166/201: training loss=0.03\n",
            "Step 165/201: training loss=0.11\n",
            "Step 164/201: training loss=0.18\n",
            "Step 163/201: training loss=0.10\n",
            "Step 162/201: training loss=0.00\n",
            "Step 161/201: training loss=0.29\n",
            "Step 160/201: training loss=0.06\n",
            "Step 159/201: training loss=0.04\n",
            "Step 158/201: training loss=0.04\n",
            "Step 157/201: training loss=0.03\n",
            "Step 156/201: training loss=0.03\n",
            "Step 155/201: training loss=0.05\n",
            "Step 154/201: training loss=0.36\n",
            "Step 153/201: training loss=0.12\n",
            "Step 152/201: training loss=0.42\n",
            "Step 151/201: training loss=0.02\n",
            "Step 150/201: training loss=0.12\n",
            "Step 149/201: training loss=0.00\n",
            "Step 148/201: training loss=0.05\n",
            "Step 147/201: training loss=0.10\n",
            "Step 146/201: training loss=0.02\n",
            "Step 145/201: training loss=0.00\n",
            "Step 144/201: training loss=0.00\n",
            "Step 143/201: training loss=0.05\n",
            "Step 142/201: training loss=0.00\n",
            "Step 141/201: training loss=0.03\n",
            "Step 140/201: training loss=0.00\n",
            "Step 139/201: training loss=0.04\n",
            "Step 138/201: training loss=0.01\n",
            "Step 137/201: training loss=0.06\n",
            "Step 136/201: training loss=0.06\n",
            "Step 135/201: training loss=0.02\n",
            "Step 134/201: training loss=0.03\n",
            "Step 133/201: training loss=0.00\n",
            "Step 132/201: training loss=0.21\n",
            "Step 131/201: training loss=0.06\n",
            "Step 130/201: training loss=0.02\n",
            "Step 129/201: training loss=0.07\n",
            "Step 128/201: training loss=0.09\n",
            "Step 127/201: training loss=0.04\n",
            "Step 126/201: training loss=0.06\n",
            "Step 125/201: training loss=0.03\n",
            "Step 124/201: training loss=0.12\n",
            "Step 123/201: training loss=0.05\n",
            "Step 122/201: training loss=0.06\n",
            "Step 121/201: training loss=0.09\n",
            "Step 120/201: training loss=0.07\n",
            "Step 119/201: training loss=0.19\n",
            "Step 118/201: training loss=0.08\n",
            "Step 117/201: training loss=0.09\n",
            "Step 116/201: training loss=0.06\n",
            "Step 115/201: training loss=0.42\n",
            "Step 114/201: training loss=0.05\n",
            "Step 113/201: training loss=0.02\n",
            "Step 112/201: training loss=0.05\n",
            "Step 111/201: training loss=0.00\n",
            "Step 110/201: training loss=0.08\n",
            "Step 109/201: training loss=0.12\n",
            "Step 108/201: training loss=0.07\n",
            "Step 107/201: training loss=0.17\n",
            "Step 106/201: training loss=0.02\n"
          ]
        }
      ],
      "source": [
        "events = list(client.fine_tuning.jobs.list_events(\n",
        "    fine_tuning_job_id=retrieved_job.id,\n",
        "    limit=100\n",
        " ).data)\n",
        "\n",
        "for e in events:\n",
        "    print(e.message)"
      ]
    },
    {
      "cell_type": "markdown",
      "metadata": {
        "id": "Pe3jUJJjyeO1"
      },
      "source": [
        "Let's extract the training loss in each learning step"
      ]
    },
    {
      "cell_type": "code",
      "execution_count": 31,
      "metadata": {
        "id": "oqhDoVBNzW_w"
      },
      "outputs": [
        {
          "name": "stdout",
          "output_type": "stream",
          "text": [
            "[201, 200, 199, 198, 197, 196, 195, 194, 193, 192, 191, 190, 189, 188, 187, 186, 185, 184, 183, 182, 181, 180, 179, 178, 177, 176, 175, 174, 173, 172, 171, 170, 169, 168, 167, 166, 165, 164, 163, 162, 161, 160, 159, 158, 157, 156, 155, 154, 153, 152, 151, 150, 149, 148, 147, 146, 145, 144, 143, 142, 141, 140, 139, 138, 137, 136, 135, 134, 133, 132, 131, 130, 129, 128, 127, 126, 125, 124, 123, 122, 121, 120, 119, 118, 117, 116, 115, 114, 113, 112, 111, 110, 109, 108, 107, 106]\n",
            "[0.05272412300109863, 0.12879985570907593, 0.1579141616821289, 0.0560726597905159, 0.005637682508677244, 0.018134841695427895, 0.08106570690870285, 5.9622307162499055e-05, 0.1615327149629593, 0.11625619977712631, 0.02639242261648178, 0.06231256574392319, 0.026004593819379807, 0.047441788017749786, 0.04847035929560661, 0.05525442212820053, 0.10763663053512573, 0.01529429480433464, 0.011364898644387722, 0.017885437235236168, 1.271565793103946e-06, 0.011118217371404171, 0.025791240856051445, 0.08207664638757706, 0.02478187531232834, 0.15102364122867584, 0.1705659180879593, 1.624778519726533e-06, 0.3646931052207947, 0.022685784846544266, 0.069473996758461, 0.046619679778814316, 0.020458785817027092, 0.016776198521256447, 0.035449907183647156, 0.03459213301539421, 0.10513503849506378, 0.17830990254878998, 0.10162480920553207, 2.260561359435087e-06, 0.28539198637008667, 0.055363234132528305, 0.04310842603445053, 0.038620561361312866, 0.025106577202677727, 0.03472862392663956, 0.046169281005859375, 0.3627221882343292, 0.12158172577619553, 0.4177873134613037, 0.023749541491270065, 0.11726810038089752, 5.933973625360522e-06, 0.045893795788288116, 0.09903233498334885, 0.018800122663378716, 1.6177142242668197e-05, 2.3382681320072152e-05, 0.05321170762181282, 3.892404129146598e-05, 0.03131555765867233, 4.4363518099999055e-05, 0.0377710722386837, 0.008647995069622993, 0.0644739642739296, 0.05711732432246208, 0.0202178955078125, 0.03473098576068878, 0.00013026484521105886, 0.20790262520313263, 0.05866757035255432, 0.021949132904410362, 0.07479194551706314, 0.08692863583564758, 0.04456615447998047, 0.06185900419950485, 0.028720928356051445, 0.11987198889255524, 0.050160981714725494, 0.060340676456689835, 0.09214165061712265, 0.072349913418293, 0.18668074905872345, 0.07787460088729858, 0.08993963152170181, 0.05878554284572601, 0.41719797253608704, 0.049469757825136185, 0.019346078857779503, 0.053602833300828934, 0.00036642287159338593, 0.082830049097538, 0.12465990334749222, 0.07421006262302399, 0.17357882857322693, 0.016434669494628906]\n"
          ]
        }
      ],
      "source": [
        "steps = []\n",
        "train_loss = []\n",
        "\n",
        "for e in events:\n",
        "    if(e.data):\n",
        "        steps.append(e.data[\"step\"])\n",
        "        train_loss.append(e.data[\"train_loss\"])\n",
        "\n",
        "print(steps)\n",
        "print(train_loss)"
      ]
    },
    {
      "cell_type": "markdown",
      "metadata": {
        "id": "iiiJIUuq2W4D"
      },
      "source": [
        "Use a line chart to visualize the train_loss in each step"
      ]
    },
    {
      "cell_type": "code",
      "execution_count": 32,
      "metadata": {
        "id": "EMRvEd-F2bLO"
      },
      "outputs": [
        {
          "data": {
            "text/plain": [
              "[<matplotlib.lines.Line2D at 0x14bf99540>]"
            ]
          },
          "execution_count": 32,
          "metadata": {},
          "output_type": "execute_result"
        },
        {
          "data": {
            "image/png": "[encoded data removed]",
            "text/plain": [
              "<Figure size 640x480 with 1 Axes>"
            ]
          },
          "metadata": {},
          "output_type": "display_data"
        }
      ],
      "source": [
        "plt.plot(steps, train_loss, marker='o', linestyle='-')"
      ]
    },
    {
      "cell_type": "markdown",
      "metadata": {
        "id": "8lGyZnvk25q9"
      },
      "source": [
        "### Task 5 - Deploy our model"
      ]
    },
    {
      "cell_type": "markdown",
      "metadata": {
        "id": "EYljL-wH42ce"
      },
      "source": [
        "Let's take a look at `retrieved_job` again"
      ]
    },
    {
      "cell_type": "code",
      "execution_count": 33,
      "metadata": {
        "id": "q4ChDCWo3H85"
      },
      "outputs": [
        {
          "name": "stdout",
          "output_type": "stream",
          "text": [
            "ft:gpt-3.5-turbo-0125:viratec-interactive::9h2LaUt0\n"
          ]
        }
      ],
      "source": [
        "myLLM = retrieved_job.fine_tuned_model\n",
        "print(myLLM)"
      ]
    },
    {
      "cell_type": "markdown",
      "metadata": {
        "id": "nLLfuwC4-h9K"
      },
      "source": [
        "Defining a method to extract information from a given user complaint using a specific LLM and return the results."
      ]
    },
    {
      "cell_type": "code",
      "execution_count": 34,
      "metadata": {
        "id": "P3_99_Hf5CV1"
      },
      "outputs": [],
      "source": [
        "def extract_details(user_complaint, model_name):\n",
        "    \"\"\"\n",
        "    This function extracts information from a given user complaint using a specific LLM (Large Language Model).\n",
        "\n",
        "    Parameters:\n",
        "    user_complaint (str): The text of the user's complaint.\n",
        "    model_name (str): The name of the specific LLM model to use for extraction.\n",
        "    \"\"\"\n",
        "\n",
        "    system_content = \"\"\"\n",
        "        Given a customer complaint text, extract and return the following information in JSON (dict) format:\n",
        "        - Topic\n",
        "        - Problem\n",
        "        - Customer_Dissatisfaction_Index\n",
        "    \"\"\"\n",
        "\n",
        "    # Generate a response using the specified model and the user's complaint\n",
        "    response = client.chat.completions.create(\n",
        "        model = model_name,\n",
        "        messages=[\n",
        "            {\"role\": \"system\", \"content\": system_content},  # System content explaining the expected output\n",
        "            {\"role\": \"user\", \"content\": user_complaint}  # User's complaint passed as content\n",
        "        ]\n",
        "    )\n",
        "\n",
        "    # Return the content of the generated response\n",
        "    return response.choices[0].message.content\n"
      ]
    },
    {
      "cell_type": "markdown",
      "metadata": {
        "id": "zE_O2zAwplof"
      },
      "source": [
        "Let's use our fine-tuned model to extract the details for the following user complaint:\n",
        "\n",
        "*TV channels keep disappearing from my subscription! What's going on? Extremely annoyed with this service!*"
      ]
    },
    {
      "cell_type": "code",
      "execution_count": 35,
      "metadata": {
        "id": "vD1dEjnzWTuw"
      },
      "outputs": [
        {
          "data": {
            "text/plain": [
              "'{\"Topic\": \"TV\", \"Problem\": \"Channels disappear from subscription\", \"Customer_Dissatisfaction_Index\": 95}'"
            ]
          },
          "execution_count": 35,
          "metadata": {},
          "output_type": "execute_result"
        }
      ],
      "source": [
        "complaint = \"TV channels keep disappearing from my subscription! What's going on? Extremely annoyed with this service!\"\n",
        "extract_details(complaint, myLLM)"
      ]
    },
    {
      "cell_type": "markdown",
      "metadata": {
        "id": "LJNgLZoS6-gw"
      },
      "source": [
        "Let's test our `GPT-4` model with the same user complaint"
      ]
    },
    {
      "cell_type": "code",
      "execution_count": 36,
      "metadata": {
        "id": "G2XBuw0N47AC"
      },
      "outputs": [
        {
          "data": {
            "text/plain": [
              "'{\\n  \"Topic\": \"TV Subscription\",\\n  \"Problem\": \"Channels disappearing from subscription\",\\n  \"Customer_Dissatisfaction_Index\": \"High\"\\n}'"
            ]
          },
          "execution_count": 36,
          "metadata": {},
          "output_type": "execute_result"
        }
      ],
      "source": [
        "extract_details(complaint, 'gpt-4')"
      ]
    },
    {
      "cell_type": "markdown",
      "metadata": {
        "id": "J3xZBAUitpVq"
      },
      "source": [
        "Let's try for the following complaint:\n",
        "\n",
        "*Line is down! It is really annoying!*"
      ]
    },
    {
      "cell_type": "code",
      "execution_count": 37,
      "metadata": {
        "id": "I3O6HzK_ttZ7"
      },
      "outputs": [
        {
          "data": {
            "text/plain": [
              "'{\"Topic\": \"Internet\", \"Problem\": \"Line down\", \"Customer_Dissatisfaction_Index\": 5}'"
            ]
          },
          "execution_count": 37,
          "metadata": {},
          "output_type": "execute_result"
        }
      ],
      "source": [
        "complaint = 'Line is down! It is really annoying!'\n",
        "extract_details(complaint, myLLM)"
      ]
    },
    {
      "cell_type": "markdown",
      "metadata": {
        "id": "W4zeLRZfuNmS"
      },
      "source": [
        "Now let's compare the results from GPT-4"
      ]
    },
    {
      "cell_type": "code",
      "execution_count": 38,
      "metadata": {
        "id": "6ubUkjXXuQ8X"
      },
      "outputs": [
        {
          "data": {
            "text/plain": [
              "'{\\n  \"Topic\": \"Service Interruption\",\\n  \"Problem\": \"Line is down\",\\n  \"Customer_Dissatisfaction_Index\": \"High\"\\n}'"
            ]
          },
          "execution_count": 38,
          "metadata": {},
          "output_type": "execute_result"
        }
      ],
      "source": [
        "extract_details(complaint, 'gpt-4')"
      ]
    },
    {
      "cell_type": "markdown",
      "metadata": {
        "id": "YvqSymjWueXu"
      },
      "source": [
        "We can see that our model, which is trained on our dataset, provides better answers compared to GPT-4. Our model is fine-tuned based on our data and is familiar with the different edge cases and the context of our dataset."
      ]
    },
    {
      "cell_type": "code",
      "execution_count": 39,
      "metadata": {
        "id": "wVQQfAAXy-v8"
      },
      "outputs": [],
      "source": [
        "customer_complaint = \"I am very Angry! I want my money back!\""
      ]
    },
    {
      "cell_type": "code",
      "execution_count": 40,
      "metadata": {},
      "outputs": [
        {
          "data": {
            "text/plain": [
              "'{\"Topic\": \"Internet\", \"Problem\": \"Line down\", \"Customer_Dissatisfaction_Index\": 10}'"
            ]
          },
          "execution_count": 40,
          "metadata": {},
          "output_type": "execute_result"
        }
      ],
      "source": [
        "extract_details(complaint, myLLM)"
      ]
    }
  ],
  "metadata": {
    "colab": {
      "collapsed_sections": [
        "1Rp80dTGpsDD",
        "0r2XnfwnqTCK",
        "Jo9HFdW0jput",
        "4XB-sFc3kO4A",
        "8lGyZnvk25q9"
      ],
      "provenance": []
    },
    "kernelspec": {
      "display_name": "Python 3",
      "name": "python3"
    },
    "language_info": {
      "codemirror_mode": {
        "name": "ipython",
        "version": 3
      },
      "file_extension": ".py",
      "mimetype": "text/x-python",
      "name": "python",
      "nbconvert_exporter": "python",
      "pygments_lexer": "ipython3",
      "version": "3.10.14"
    }
  },
  "nbformat": 4,
  "nbformat_minor": 0
}

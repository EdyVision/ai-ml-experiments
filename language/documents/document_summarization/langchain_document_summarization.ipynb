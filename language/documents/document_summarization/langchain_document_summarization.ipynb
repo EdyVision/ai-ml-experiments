{
 "cells": [
  {
   "cell_type": "markdown",
   "metadata": {},
   "source": [
    "# Langchain Document Summarization\n",
    "\n",
    "Placeholder for https://www.coursera.org/projects/genai-summarization-with-langchain-summarize-text-documents"
   ]
  },
  {
   "cell_type": "code",
   "execution_count": null,
   "metadata": {},
   "outputs": [],
   "source": []
  }
 ],
 "metadata": {
  "language_info": {
   "name": "python"
  }
 },
 "nbformat": 4,
 "nbformat_minor": 2
}
